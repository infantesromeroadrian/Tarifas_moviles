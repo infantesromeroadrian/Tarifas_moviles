{
 "cells": [
  {
   "cell_type": "markdown",
   "source": [
    "# 1.1 INDICE - CONTENIDO"
   ],
   "metadata": {
    "collapsed": false
   }
  },
  {
   "cell_type": "code",
   "execution_count": 345,
   "metadata": {
    "collapsed": true
   },
   "outputs": [
    {
     "name": "stdout",
     "output_type": "stream",
     "text": [
      "1. Introduction\n",
      "2. Importacion de librerias\n",
      "3. Lectura de datos\n",
      "4. Anilisis por columna\n",
      "5. Busqueda y analisis de datos nulos\n",
      "5. Reemplazamiento de datos nulos y atipicos\n",
      "6. Creacion de nuevas columnas\n",
      "7. Visualizacion de datos\n",
      "8. Analisis mediante pivot_table\n",
      "9. Creacion de nuevo dataset(probability)\n",
      "10. Conclusiones\n"
     ]
    }
   ],
   "source": [
    "print('1. Introduction')\n",
    "print('2. Importacion de librerias')\n",
    "print('3. Lectura de datos')\n",
    "print('4. Anilisis por columna')\n",
    "print('5. Busqueda y analisis de datos nulos')\n",
    "print('5. Reemplazamiento de datos nulos y atipicos')\n",
    "print('6. Creacion de nuevas columnas')\n",
    "print('7. Visualizacion de datos')\n",
    "print('8. Analisis mediante pivot_table')\n",
    "print('9. Creacion de nuevo dataset(probability)')\n",
    "print('10. Conclusiones')"
   ]
  },
  {
   "cell_type": "markdown",
   "source": [
    "# 1.2 CONTEXTO - PROYECTO"
   ],
   "metadata": {
    "collapsed": false
   }
  },
  {
   "cell_type": "markdown",
   "source": [
    "Trabajas como analista para el operador de telecomunicaciones Megaline. La empresa ofrece a sus clientes dos tarifas de prepago, Surf y Ultimate. El departamento comercial quiere saber cuál de los planes genera más ingresos\n",
    "para ajustar el presupuesto de publicidad.\n",
    "Vas a realizar un análisis preliminar de las tarifas basado en una selección de clientes relativamente pequeña. Tendrás los datos de 500 clientes de Megaline: quiénes son los clientes, de dónde son, qué tarifa usan y la\n",
    "cantidad de llamadas que hicieron y los mensajes de texto que enviaron en 2018. Tu trabajo es analizar el comportamiento de los clientes y determinar qué tarifa de prepago genera más ingresos.\n"
   ],
   "metadata": {
    "collapsed": false
   }
  },
  {
   "cell_type": "markdown",
   "source": [
    "# 1.3 CARGA DE LIBRERIAS"
   ],
   "metadata": {
    "collapsed": false
   }
  },
  {
   "cell_type": "code",
   "execution_count": 346,
   "outputs": [],
   "source": [
    "import pandas as pd\n",
    "import numpy as np\n",
    "import matplotlib.pyplot as plt\n",
    "import seaborn as sns\n",
    "import random as np\n",
    "import scipy as np"
   ],
   "metadata": {
    "collapsed": false
   }
  },
  {
   "cell_type": "markdown",
   "source": [
    "# 1.4 CARGA DE DATOS"
   ],
   "metadata": {
    "collapsed": false
   }
  },
  {
   "cell_type": "code",
   "execution_count": 347,
   "outputs": [],
   "source": [
    "calls_data = pd.read_csv('/Users/adrianinfantesromero/Desktop/AIR/Work/GitHub/Practicum/Tarifas_moviles/megaline_calls.csv')\n",
    "internet_data = pd.read_csv('/Users/adrianinfantesromero/Desktop/AIR/Work/GitHub/Practicum/Tarifas_moviles/megaline_internet.csv')\n",
    "messages_data = pd.read_csv('/Users/adrianinfantesromero/Desktop/AIR/Work/GitHub/Practicum/Tarifas_moviles/megaline_messages.csv')\n",
    "plans_data = pd.read_csv('/Users/adrianinfantesromero/Desktop/AIR/Work/GitHub/Practicum/Tarifas_moviles/megaline_plans.csv')\n",
    "users_data = pd.read_csv('/Users/adrianinfantesromero/Desktop/AIR/Work/GitHub/Practicum/Tarifas_moviles/megaline_users.csv')"
   ],
   "metadata": {
    "collapsed": false
   }
  },
  {
   "cell_type": "code",
   "execution_count": 348,
   "outputs": [
    {
     "data": {
      "text/plain": "              id  user_id   call_date  duration\n0        1000_93     1000  2018-12-27      8.52\n1       1000_145     1000  2018-12-27     13.66\n2       1000_247     1000  2018-12-27     14.48\n3       1000_309     1000  2018-12-28      5.76\n4       1000_380     1000  2018-12-30      4.22\n...          ...      ...         ...       ...\n137730  1499_199     1499  2018-11-21      8.72\n137731  1499_200     1499  2018-10-20     10.89\n137732  1499_201     1499  2018-09-21      8.12\n137733  1499_202     1499  2018-10-10      0.37\n137734  1499_203     1499  2018-12-29     13.86\n\n[137735 rows x 4 columns]",
      "text/html": "<div>\n<style scoped>\n    .dataframe tbody tr th:only-of-type {\n        vertical-align: middle;\n    }\n\n    .dataframe tbody tr th {\n        vertical-align: top;\n    }\n\n    .dataframe thead th {\n        text-align: right;\n    }\n</style>\n<table border=\"1\" class=\"dataframe\">\n  <thead>\n    <tr style=\"text-align: right;\">\n      <th></th>\n      <th>id</th>\n      <th>user_id</th>\n      <th>call_date</th>\n      <th>duration</th>\n    </tr>\n  </thead>\n  <tbody>\n    <tr>\n      <th>0</th>\n      <td>1000_93</td>\n      <td>1000</td>\n      <td>2018-12-27</td>\n      <td>8.52</td>\n    </tr>\n    <tr>\n      <th>1</th>\n      <td>1000_145</td>\n      <td>1000</td>\n      <td>2018-12-27</td>\n      <td>13.66</td>\n    </tr>\n    <tr>\n      <th>2</th>\n      <td>1000_247</td>\n      <td>1000</td>\n      <td>2018-12-27</td>\n      <td>14.48</td>\n    </tr>\n    <tr>\n      <th>3</th>\n      <td>1000_309</td>\n      <td>1000</td>\n      <td>2018-12-28</td>\n      <td>5.76</td>\n    </tr>\n    <tr>\n      <th>4</th>\n      <td>1000_380</td>\n      <td>1000</td>\n      <td>2018-12-30</td>\n      <td>4.22</td>\n    </tr>\n    <tr>\n      <th>...</th>\n      <td>...</td>\n      <td>...</td>\n      <td>...</td>\n      <td>...</td>\n    </tr>\n    <tr>\n      <th>137730</th>\n      <td>1499_199</td>\n      <td>1499</td>\n      <td>2018-11-21</td>\n      <td>8.72</td>\n    </tr>\n    <tr>\n      <th>137731</th>\n      <td>1499_200</td>\n      <td>1499</td>\n      <td>2018-10-20</td>\n      <td>10.89</td>\n    </tr>\n    <tr>\n      <th>137732</th>\n      <td>1499_201</td>\n      <td>1499</td>\n      <td>2018-09-21</td>\n      <td>8.12</td>\n    </tr>\n    <tr>\n      <th>137733</th>\n      <td>1499_202</td>\n      <td>1499</td>\n      <td>2018-10-10</td>\n      <td>0.37</td>\n    </tr>\n    <tr>\n      <th>137734</th>\n      <td>1499_203</td>\n      <td>1499</td>\n      <td>2018-12-29</td>\n      <td>13.86</td>\n    </tr>\n  </tbody>\n</table>\n<p>137735 rows × 4 columns</p>\n</div>"
     },
     "execution_count": 348,
     "metadata": {},
     "output_type": "execute_result"
    }
   ],
   "source": [
    "calls_data"
   ],
   "metadata": {
    "collapsed": false
   }
  },
  {
   "cell_type": "code",
   "execution_count": 349,
   "outputs": [
    {
     "data": {
      "text/plain": "              id  user_id session_date  mb_used\n0        1000_13     1000   2018-12-29    89.86\n1       1000_204     1000   2018-12-31     0.00\n2       1000_379     1000   2018-12-28   660.40\n3       1000_413     1000   2018-12-26   270.99\n4       1000_442     1000   2018-12-27   880.22\n...          ...      ...          ...      ...\n104820  1499_215     1499   2018-10-20   218.06\n104821  1499_216     1499   2018-12-30   304.72\n104822  1499_217     1499   2018-09-22   292.75\n104823  1499_218     1499   2018-12-07     0.00\n104824  1499_219     1499   2018-12-24   758.31\n\n[104825 rows x 4 columns]",
      "text/html": "<div>\n<style scoped>\n    .dataframe tbody tr th:only-of-type {\n        vertical-align: middle;\n    }\n\n    .dataframe tbody tr th {\n        vertical-align: top;\n    }\n\n    .dataframe thead th {\n        text-align: right;\n    }\n</style>\n<table border=\"1\" class=\"dataframe\">\n  <thead>\n    <tr style=\"text-align: right;\">\n      <th></th>\n      <th>id</th>\n      <th>user_id</th>\n      <th>session_date</th>\n      <th>mb_used</th>\n    </tr>\n  </thead>\n  <tbody>\n    <tr>\n      <th>0</th>\n      <td>1000_13</td>\n      <td>1000</td>\n      <td>2018-12-29</td>\n      <td>89.86</td>\n    </tr>\n    <tr>\n      <th>1</th>\n      <td>1000_204</td>\n      <td>1000</td>\n      <td>2018-12-31</td>\n      <td>0.00</td>\n    </tr>\n    <tr>\n      <th>2</th>\n      <td>1000_379</td>\n      <td>1000</td>\n      <td>2018-12-28</td>\n      <td>660.40</td>\n    </tr>\n    <tr>\n      <th>3</th>\n      <td>1000_413</td>\n      <td>1000</td>\n      <td>2018-12-26</td>\n      <td>270.99</td>\n    </tr>\n    <tr>\n      <th>4</th>\n      <td>1000_442</td>\n      <td>1000</td>\n      <td>2018-12-27</td>\n      <td>880.22</td>\n    </tr>\n    <tr>\n      <th>...</th>\n      <td>...</td>\n      <td>...</td>\n      <td>...</td>\n      <td>...</td>\n    </tr>\n    <tr>\n      <th>104820</th>\n      <td>1499_215</td>\n      <td>1499</td>\n      <td>2018-10-20</td>\n      <td>218.06</td>\n    </tr>\n    <tr>\n      <th>104821</th>\n      <td>1499_216</td>\n      <td>1499</td>\n      <td>2018-12-30</td>\n      <td>304.72</td>\n    </tr>\n    <tr>\n      <th>104822</th>\n      <td>1499_217</td>\n      <td>1499</td>\n      <td>2018-09-22</td>\n      <td>292.75</td>\n    </tr>\n    <tr>\n      <th>104823</th>\n      <td>1499_218</td>\n      <td>1499</td>\n      <td>2018-12-07</td>\n      <td>0.00</td>\n    </tr>\n    <tr>\n      <th>104824</th>\n      <td>1499_219</td>\n      <td>1499</td>\n      <td>2018-12-24</td>\n      <td>758.31</td>\n    </tr>\n  </tbody>\n</table>\n<p>104825 rows × 4 columns</p>\n</div>"
     },
     "execution_count": 349,
     "metadata": {},
     "output_type": "execute_result"
    }
   ],
   "source": [
    "internet_data"
   ],
   "metadata": {
    "collapsed": false
   }
  },
  {
   "cell_type": "code",
   "execution_count": 350,
   "outputs": [
    {
     "data": {
      "text/plain": "             id  user_id message_date\n0      1000_125     1000   2018-12-27\n1      1000_160     1000   2018-12-31\n2      1000_223     1000   2018-12-31\n3      1000_251     1000   2018-12-27\n4      1000_255     1000   2018-12-26\n...         ...      ...          ...\n76046  1497_526     1497   2018-12-24\n76047  1497_536     1497   2018-12-24\n76048  1497_547     1497   2018-12-31\n76049  1497_558     1497   2018-12-24\n76050  1497_613     1497   2018-12-23\n\n[76051 rows x 3 columns]",
      "text/html": "<div>\n<style scoped>\n    .dataframe tbody tr th:only-of-type {\n        vertical-align: middle;\n    }\n\n    .dataframe tbody tr th {\n        vertical-align: top;\n    }\n\n    .dataframe thead th {\n        text-align: right;\n    }\n</style>\n<table border=\"1\" class=\"dataframe\">\n  <thead>\n    <tr style=\"text-align: right;\">\n      <th></th>\n      <th>id</th>\n      <th>user_id</th>\n      <th>message_date</th>\n    </tr>\n  </thead>\n  <tbody>\n    <tr>\n      <th>0</th>\n      <td>1000_125</td>\n      <td>1000</td>\n      <td>2018-12-27</td>\n    </tr>\n    <tr>\n      <th>1</th>\n      <td>1000_160</td>\n      <td>1000</td>\n      <td>2018-12-31</td>\n    </tr>\n    <tr>\n      <th>2</th>\n      <td>1000_223</td>\n      <td>1000</td>\n      <td>2018-12-31</td>\n    </tr>\n    <tr>\n      <th>3</th>\n      <td>1000_251</td>\n      <td>1000</td>\n      <td>2018-12-27</td>\n    </tr>\n    <tr>\n      <th>4</th>\n      <td>1000_255</td>\n      <td>1000</td>\n      <td>2018-12-26</td>\n    </tr>\n    <tr>\n      <th>...</th>\n      <td>...</td>\n      <td>...</td>\n      <td>...</td>\n    </tr>\n    <tr>\n      <th>76046</th>\n      <td>1497_526</td>\n      <td>1497</td>\n      <td>2018-12-24</td>\n    </tr>\n    <tr>\n      <th>76047</th>\n      <td>1497_536</td>\n      <td>1497</td>\n      <td>2018-12-24</td>\n    </tr>\n    <tr>\n      <th>76048</th>\n      <td>1497_547</td>\n      <td>1497</td>\n      <td>2018-12-31</td>\n    </tr>\n    <tr>\n      <th>76049</th>\n      <td>1497_558</td>\n      <td>1497</td>\n      <td>2018-12-24</td>\n    </tr>\n    <tr>\n      <th>76050</th>\n      <td>1497_613</td>\n      <td>1497</td>\n      <td>2018-12-23</td>\n    </tr>\n  </tbody>\n</table>\n<p>76051 rows × 3 columns</p>\n</div>"
     },
     "execution_count": 350,
     "metadata": {},
     "output_type": "execute_result"
    }
   ],
   "source": [
    "messages_data"
   ],
   "metadata": {
    "collapsed": false
   }
  },
  {
   "cell_type": "code",
   "execution_count": 351,
   "outputs": [
    {
     "data": {
      "text/plain": "   messages_included  mb_per_month_included  minutes_included  \\\n0                 50                  15360               500   \n1               1000                  30720              3000   \n\n   usd_monthly_pay  usd_per_gb  usd_per_message  usd_per_minute plan_name  \n0               20          10             0.03            0.03      surf  \n1               70           7             0.01            0.01  ultimate  ",
      "text/html": "<div>\n<style scoped>\n    .dataframe tbody tr th:only-of-type {\n        vertical-align: middle;\n    }\n\n    .dataframe tbody tr th {\n        vertical-align: top;\n    }\n\n    .dataframe thead th {\n        text-align: right;\n    }\n</style>\n<table border=\"1\" class=\"dataframe\">\n  <thead>\n    <tr style=\"text-align: right;\">\n      <th></th>\n      <th>messages_included</th>\n      <th>mb_per_month_included</th>\n      <th>minutes_included</th>\n      <th>usd_monthly_pay</th>\n      <th>usd_per_gb</th>\n      <th>usd_per_message</th>\n      <th>usd_per_minute</th>\n      <th>plan_name</th>\n    </tr>\n  </thead>\n  <tbody>\n    <tr>\n      <th>0</th>\n      <td>50</td>\n      <td>15360</td>\n      <td>500</td>\n      <td>20</td>\n      <td>10</td>\n      <td>0.03</td>\n      <td>0.03</td>\n      <td>surf</td>\n    </tr>\n    <tr>\n      <th>1</th>\n      <td>1000</td>\n      <td>30720</td>\n      <td>3000</td>\n      <td>70</td>\n      <td>7</td>\n      <td>0.01</td>\n      <td>0.01</td>\n      <td>ultimate</td>\n    </tr>\n  </tbody>\n</table>\n</div>"
     },
     "execution_count": 351,
     "metadata": {},
     "output_type": "execute_result"
    }
   ],
   "source": [
    "plans_data"
   ],
   "metadata": {
    "collapsed": false
   }
  },
  {
   "cell_type": "code",
   "execution_count": 352,
   "outputs": [
    {
     "data": {
      "text/plain": "     user_id first_name   last_name  age  \\\n0       1000   Anamaria       Bauer   45   \n1       1001     Mickey   Wilkerson   28   \n2       1002     Carlee     Hoffman   36   \n3       1003   Reynaldo     Jenkins   52   \n4       1004    Leonila    Thompson   40   \n..       ...        ...         ...  ...   \n495     1495      Fidel      Sharpe   67   \n496     1496      Ariel    Shepherd   49   \n497     1497      Donte     Barrera   49   \n498     1498       Scot  Williamson   51   \n499     1499      Shena     Dickson   37   \n\n                                          city    reg_date      plan  \\\n0        Atlanta-Sandy Springs-Roswell, GA MSA  2018-12-24  ultimate   \n1              Seattle-Tacoma-Bellevue, WA MSA  2018-08-13      surf   \n2         Las Vegas-Henderson-Paradise, NV MSA  2018-10-21      surf   \n3                                Tulsa, OK MSA  2018-01-28      surf   \n4              Seattle-Tacoma-Bellevue, WA MSA  2018-05-23      surf   \n..                                         ...         ...       ...   \n495  New York-Newark-Jersey City, NY-NJ-PA MSA  2018-09-04      surf   \n496               New Orleans-Metairie, LA MSA  2018-02-20      surf   \n497     Los Angeles-Long Beach-Anaheim, CA MSA  2018-12-10  ultimate   \n498  New York-Newark-Jersey City, NY-NJ-PA MSA  2018-02-04      surf   \n499          Orlando-Kissimmee-Sanford, FL MSA  2018-05-06      surf   \n\n    churn_date  \n0          NaN  \n1          NaN  \n2          NaN  \n3          NaN  \n4          NaN  \n..         ...  \n495        NaN  \n496        NaN  \n497        NaN  \n498        NaN  \n499        NaN  \n\n[500 rows x 8 columns]",
      "text/html": "<div>\n<style scoped>\n    .dataframe tbody tr th:only-of-type {\n        vertical-align: middle;\n    }\n\n    .dataframe tbody tr th {\n        vertical-align: top;\n    }\n\n    .dataframe thead th {\n        text-align: right;\n    }\n</style>\n<table border=\"1\" class=\"dataframe\">\n  <thead>\n    <tr style=\"text-align: right;\">\n      <th></th>\n      <th>user_id</th>\n      <th>first_name</th>\n      <th>last_name</th>\n      <th>age</th>\n      <th>city</th>\n      <th>reg_date</th>\n      <th>plan</th>\n      <th>churn_date</th>\n    </tr>\n  </thead>\n  <tbody>\n    <tr>\n      <th>0</th>\n      <td>1000</td>\n      <td>Anamaria</td>\n      <td>Bauer</td>\n      <td>45</td>\n      <td>Atlanta-Sandy Springs-Roswell, GA MSA</td>\n      <td>2018-12-24</td>\n      <td>ultimate</td>\n      <td>NaN</td>\n    </tr>\n    <tr>\n      <th>1</th>\n      <td>1001</td>\n      <td>Mickey</td>\n      <td>Wilkerson</td>\n      <td>28</td>\n      <td>Seattle-Tacoma-Bellevue, WA MSA</td>\n      <td>2018-08-13</td>\n      <td>surf</td>\n      <td>NaN</td>\n    </tr>\n    <tr>\n      <th>2</th>\n      <td>1002</td>\n      <td>Carlee</td>\n      <td>Hoffman</td>\n      <td>36</td>\n      <td>Las Vegas-Henderson-Paradise, NV MSA</td>\n      <td>2018-10-21</td>\n      <td>surf</td>\n      <td>NaN</td>\n    </tr>\n    <tr>\n      <th>3</th>\n      <td>1003</td>\n      <td>Reynaldo</td>\n      <td>Jenkins</td>\n      <td>52</td>\n      <td>Tulsa, OK MSA</td>\n      <td>2018-01-28</td>\n      <td>surf</td>\n      <td>NaN</td>\n    </tr>\n    <tr>\n      <th>4</th>\n      <td>1004</td>\n      <td>Leonila</td>\n      <td>Thompson</td>\n      <td>40</td>\n      <td>Seattle-Tacoma-Bellevue, WA MSA</td>\n      <td>2018-05-23</td>\n      <td>surf</td>\n      <td>NaN</td>\n    </tr>\n    <tr>\n      <th>...</th>\n      <td>...</td>\n      <td>...</td>\n      <td>...</td>\n      <td>...</td>\n      <td>...</td>\n      <td>...</td>\n      <td>...</td>\n      <td>...</td>\n    </tr>\n    <tr>\n      <th>495</th>\n      <td>1495</td>\n      <td>Fidel</td>\n      <td>Sharpe</td>\n      <td>67</td>\n      <td>New York-Newark-Jersey City, NY-NJ-PA MSA</td>\n      <td>2018-09-04</td>\n      <td>surf</td>\n      <td>NaN</td>\n    </tr>\n    <tr>\n      <th>496</th>\n      <td>1496</td>\n      <td>Ariel</td>\n      <td>Shepherd</td>\n      <td>49</td>\n      <td>New Orleans-Metairie, LA MSA</td>\n      <td>2018-02-20</td>\n      <td>surf</td>\n      <td>NaN</td>\n    </tr>\n    <tr>\n      <th>497</th>\n      <td>1497</td>\n      <td>Donte</td>\n      <td>Barrera</td>\n      <td>49</td>\n      <td>Los Angeles-Long Beach-Anaheim, CA MSA</td>\n      <td>2018-12-10</td>\n      <td>ultimate</td>\n      <td>NaN</td>\n    </tr>\n    <tr>\n      <th>498</th>\n      <td>1498</td>\n      <td>Scot</td>\n      <td>Williamson</td>\n      <td>51</td>\n      <td>New York-Newark-Jersey City, NY-NJ-PA MSA</td>\n      <td>2018-02-04</td>\n      <td>surf</td>\n      <td>NaN</td>\n    </tr>\n    <tr>\n      <th>499</th>\n      <td>1499</td>\n      <td>Shena</td>\n      <td>Dickson</td>\n      <td>37</td>\n      <td>Orlando-Kissimmee-Sanford, FL MSA</td>\n      <td>2018-05-06</td>\n      <td>surf</td>\n      <td>NaN</td>\n    </tr>\n  </tbody>\n</table>\n<p>500 rows × 8 columns</p>\n</div>"
     },
     "execution_count": 352,
     "metadata": {},
     "output_type": "execute_result"
    }
   ],
   "source": [
    "users_data"
   ],
   "metadata": {
    "collapsed": false
   }
  },
  {
   "cell_type": "markdown",
   "source": [
    "# 2.0 ANALISIS DE NULOS"
   ],
   "metadata": {
    "collapsed": false
   }
  },
  {
   "cell_type": "code",
   "execution_count": 353,
   "outputs": [
    {
     "data": {
      "text/plain": "id              0\nuser_id         0\nmessage_date    0\ndtype: int64"
     },
     "execution_count": 353,
     "metadata": {},
     "output_type": "execute_result"
    }
   ],
   "source": [
    "messages_data.isnull().sum()"
   ],
   "metadata": {
    "collapsed": false
   }
  },
  {
   "cell_type": "code",
   "execution_count": 354,
   "outputs": [
    {
     "data": {
      "text/plain": "user_id         0\nfirst_name      0\nlast_name       0\nage             0\ncity            0\nreg_date        0\nplan            0\nchurn_date    466\ndtype: int64"
     },
     "execution_count": 354,
     "metadata": {},
     "output_type": "execute_result"
    }
   ],
   "source": [
    "users_data.isnull().sum()"
   ],
   "metadata": {
    "collapsed": false
   }
  },
  {
   "cell_type": "code",
   "execution_count": 355,
   "outputs": [
    {
     "data": {
      "text/plain": "id           0\nuser_id      0\ncall_date    0\nduration     0\ndtype: int64"
     },
     "execution_count": 355,
     "metadata": {},
     "output_type": "execute_result"
    }
   ],
   "source": [
    "calls_data.isnull().sum()"
   ],
   "metadata": {
    "collapsed": false
   }
  },
  {
   "cell_type": "code",
   "execution_count": 356,
   "outputs": [
    {
     "data": {
      "text/plain": "id              0\nuser_id         0\nsession_date    0\nmb_used         0\ndtype: int64"
     },
     "execution_count": 356,
     "metadata": {},
     "output_type": "execute_result"
    }
   ],
   "source": [
    "internet_data.isnull().sum()"
   ],
   "metadata": {
    "collapsed": false
   }
  },
  {
   "cell_type": "code",
   "execution_count": 357,
   "outputs": [
    {
     "data": {
      "text/plain": "messages_included        0\nmb_per_month_included    0\nminutes_included         0\nusd_monthly_pay          0\nusd_per_gb               0\nusd_per_message          0\nusd_per_minute           0\nplan_name                0\ndtype: int64"
     },
     "execution_count": 357,
     "metadata": {},
     "output_type": "execute_result"
    }
   ],
   "source": [
    "plans_data.isnull().sum()"
   ],
   "metadata": {
    "collapsed": false
   }
  },
  {
   "cell_type": "markdown",
   "source": [
    "Vemos que hay varios datos nulos en el dataset users_data pero observamos que basicamente son todos aquellos que no tienen aun fecha de baja de la tarifa. Por lo que realmente esos datos nulos igualmente si nos aportan informacion."
   ],
   "metadata": {
    "collapsed": false
   }
  },
  {
   "cell_type": "markdown",
   "source": [
    "#  2.1 PREPRACION DE DATASETS"
   ],
   "metadata": {
    "collapsed": false
   }
  },
  {
   "cell_type": "markdown",
   "source": [
    "## MESSAGES"
   ],
   "metadata": {
    "collapsed": false
   }
  },
  {
   "cell_type": "code",
   "execution_count": 358,
   "outputs": [],
   "source": [
    "messages = pd.merge(users_data, messages_data, on='user_id')"
   ],
   "metadata": {
    "collapsed": false
   }
  },
  {
   "cell_type": "code",
   "execution_count": 359,
   "outputs": [],
   "source": [
    "messages['payment_plan'] = messages['plan'].map({'surf': 20, 'ultimate': 70})"
   ],
   "metadata": {
    "collapsed": false
   }
  },
  {
   "cell_type": "code",
   "execution_count": 360,
   "outputs": [],
   "source": [
    "messages['limit_plan'] = messages['plan'].map({'surf': 50, 'ultimate': 1000})"
   ],
   "metadata": {
    "collapsed": false
   }
  },
  {
   "cell_type": "code",
   "execution_count": 361,
   "outputs": [],
   "source": [
    "messages['debt_fee'] = messages['plan'].map({'surf': 0.3, 'ultimate': 0.1})"
   ],
   "metadata": {
    "collapsed": false
   }
  },
  {
   "cell_type": "code",
   "execution_count": 362,
   "outputs": [],
   "source": [
    "messages['month'] = messages['message_date'].str.split('-', expand=True)[1]"
   ],
   "metadata": {
    "collapsed": false
   }
  },
  {
   "cell_type": "code",
   "execution_count": 363,
   "outputs": [],
   "source": [
    "messages['id'] = messages['id'].str.split('_', expand=True)[0]"
   ],
   "metadata": {
    "collapsed": false
   }
  },
  {
   "cell_type": "code",
   "execution_count": 395,
   "outputs": [],
   "source": [
    "messages['id'] = messages['id'].astype(int)"
   ],
   "metadata": {
    "collapsed": false
   }
  },
  {
   "cell_type": "code",
   "execution_count": 396,
   "outputs": [
    {
     "data": {
      "text/plain": "       user_id first_name last_name  age  \\\n0         1000   Anamaria     Bauer   45   \n1         1000   Anamaria     Bauer   45   \n2         1000   Anamaria     Bauer   45   \n3         1000   Anamaria     Bauer   45   \n4         1000   Anamaria     Bauer   45   \n...        ...        ...       ...  ...   \n76046     1497      Donte   Barrera   49   \n76047     1497      Donte   Barrera   49   \n76048     1497      Donte   Barrera   49   \n76049     1497      Donte   Barrera   49   \n76050     1497      Donte   Barrera   49   \n\n                                         city    reg_date      plan  \\\n0       Atlanta-Sandy Springs-Roswell, GA MSA  2018-12-24  ultimate   \n1       Atlanta-Sandy Springs-Roswell, GA MSA  2018-12-24  ultimate   \n2       Atlanta-Sandy Springs-Roswell, GA MSA  2018-12-24  ultimate   \n3       Atlanta-Sandy Springs-Roswell, GA MSA  2018-12-24  ultimate   \n4       Atlanta-Sandy Springs-Roswell, GA MSA  2018-12-24  ultimate   \n...                                       ...         ...       ...   \n76046  Los Angeles-Long Beach-Anaheim, CA MSA  2018-12-10  ultimate   \n76047  Los Angeles-Long Beach-Anaheim, CA MSA  2018-12-10  ultimate   \n76048  Los Angeles-Long Beach-Anaheim, CA MSA  2018-12-10  ultimate   \n76049  Los Angeles-Long Beach-Anaheim, CA MSA  2018-12-10  ultimate   \n76050  Los Angeles-Long Beach-Anaheim, CA MSA  2018-12-10  ultimate   \n\n      churn_date    id message_date  payment_plan  limit_plan  debt_fee month  \n0            NaN  1000   2018-12-27            70        1000       0.1    12  \n1            NaN  1000   2018-12-31            70        1000       0.1    12  \n2            NaN  1000   2018-12-31            70        1000       0.1    12  \n3            NaN  1000   2018-12-27            70        1000       0.1    12  \n4            NaN  1000   2018-12-26            70        1000       0.1    12  \n...          ...   ...          ...           ...         ...       ...   ...  \n76046        NaN  1497   2018-12-24            70        1000       0.1    12  \n76047        NaN  1497   2018-12-24            70        1000       0.1    12  \n76048        NaN  1497   2018-12-31            70        1000       0.1    12  \n76049        NaN  1497   2018-12-24            70        1000       0.1    12  \n76050        NaN  1497   2018-12-23            70        1000       0.1    12  \n\n[76051 rows x 14 columns]",
      "text/html": "<div>\n<style scoped>\n    .dataframe tbody tr th:only-of-type {\n        vertical-align: middle;\n    }\n\n    .dataframe tbody tr th {\n        vertical-align: top;\n    }\n\n    .dataframe thead th {\n        text-align: right;\n    }\n</style>\n<table border=\"1\" class=\"dataframe\">\n  <thead>\n    <tr style=\"text-align: right;\">\n      <th></th>\n      <th>user_id</th>\n      <th>first_name</th>\n      <th>last_name</th>\n      <th>age</th>\n      <th>city</th>\n      <th>reg_date</th>\n      <th>plan</th>\n      <th>churn_date</th>\n      <th>id</th>\n      <th>message_date</th>\n      <th>payment_plan</th>\n      <th>limit_plan</th>\n      <th>debt_fee</th>\n      <th>month</th>\n    </tr>\n  </thead>\n  <tbody>\n    <tr>\n      <th>0</th>\n      <td>1000</td>\n      <td>Anamaria</td>\n      <td>Bauer</td>\n      <td>45</td>\n      <td>Atlanta-Sandy Springs-Roswell, GA MSA</td>\n      <td>2018-12-24</td>\n      <td>ultimate</td>\n      <td>NaN</td>\n      <td>1000</td>\n      <td>2018-12-27</td>\n      <td>70</td>\n      <td>1000</td>\n      <td>0.1</td>\n      <td>12</td>\n    </tr>\n    <tr>\n      <th>1</th>\n      <td>1000</td>\n      <td>Anamaria</td>\n      <td>Bauer</td>\n      <td>45</td>\n      <td>Atlanta-Sandy Springs-Roswell, GA MSA</td>\n      <td>2018-12-24</td>\n      <td>ultimate</td>\n      <td>NaN</td>\n      <td>1000</td>\n      <td>2018-12-31</td>\n      <td>70</td>\n      <td>1000</td>\n      <td>0.1</td>\n      <td>12</td>\n    </tr>\n    <tr>\n      <th>2</th>\n      <td>1000</td>\n      <td>Anamaria</td>\n      <td>Bauer</td>\n      <td>45</td>\n      <td>Atlanta-Sandy Springs-Roswell, GA MSA</td>\n      <td>2018-12-24</td>\n      <td>ultimate</td>\n      <td>NaN</td>\n      <td>1000</td>\n      <td>2018-12-31</td>\n      <td>70</td>\n      <td>1000</td>\n      <td>0.1</td>\n      <td>12</td>\n    </tr>\n    <tr>\n      <th>3</th>\n      <td>1000</td>\n      <td>Anamaria</td>\n      <td>Bauer</td>\n      <td>45</td>\n      <td>Atlanta-Sandy Springs-Roswell, GA MSA</td>\n      <td>2018-12-24</td>\n      <td>ultimate</td>\n      <td>NaN</td>\n      <td>1000</td>\n      <td>2018-12-27</td>\n      <td>70</td>\n      <td>1000</td>\n      <td>0.1</td>\n      <td>12</td>\n    </tr>\n    <tr>\n      <th>4</th>\n      <td>1000</td>\n      <td>Anamaria</td>\n      <td>Bauer</td>\n      <td>45</td>\n      <td>Atlanta-Sandy Springs-Roswell, GA MSA</td>\n      <td>2018-12-24</td>\n      <td>ultimate</td>\n      <td>NaN</td>\n      <td>1000</td>\n      <td>2018-12-26</td>\n      <td>70</td>\n      <td>1000</td>\n      <td>0.1</td>\n      <td>12</td>\n    </tr>\n    <tr>\n      <th>...</th>\n      <td>...</td>\n      <td>...</td>\n      <td>...</td>\n      <td>...</td>\n      <td>...</td>\n      <td>...</td>\n      <td>...</td>\n      <td>...</td>\n      <td>...</td>\n      <td>...</td>\n      <td>...</td>\n      <td>...</td>\n      <td>...</td>\n      <td>...</td>\n    </tr>\n    <tr>\n      <th>76046</th>\n      <td>1497</td>\n      <td>Donte</td>\n      <td>Barrera</td>\n      <td>49</td>\n      <td>Los Angeles-Long Beach-Anaheim, CA MSA</td>\n      <td>2018-12-10</td>\n      <td>ultimate</td>\n      <td>NaN</td>\n      <td>1497</td>\n      <td>2018-12-24</td>\n      <td>70</td>\n      <td>1000</td>\n      <td>0.1</td>\n      <td>12</td>\n    </tr>\n    <tr>\n      <th>76047</th>\n      <td>1497</td>\n      <td>Donte</td>\n      <td>Barrera</td>\n      <td>49</td>\n      <td>Los Angeles-Long Beach-Anaheim, CA MSA</td>\n      <td>2018-12-10</td>\n      <td>ultimate</td>\n      <td>NaN</td>\n      <td>1497</td>\n      <td>2018-12-24</td>\n      <td>70</td>\n      <td>1000</td>\n      <td>0.1</td>\n      <td>12</td>\n    </tr>\n    <tr>\n      <th>76048</th>\n      <td>1497</td>\n      <td>Donte</td>\n      <td>Barrera</td>\n      <td>49</td>\n      <td>Los Angeles-Long Beach-Anaheim, CA MSA</td>\n      <td>2018-12-10</td>\n      <td>ultimate</td>\n      <td>NaN</td>\n      <td>1497</td>\n      <td>2018-12-31</td>\n      <td>70</td>\n      <td>1000</td>\n      <td>0.1</td>\n      <td>12</td>\n    </tr>\n    <tr>\n      <th>76049</th>\n      <td>1497</td>\n      <td>Donte</td>\n      <td>Barrera</td>\n      <td>49</td>\n      <td>Los Angeles-Long Beach-Anaheim, CA MSA</td>\n      <td>2018-12-10</td>\n      <td>ultimate</td>\n      <td>NaN</td>\n      <td>1497</td>\n      <td>2018-12-24</td>\n      <td>70</td>\n      <td>1000</td>\n      <td>0.1</td>\n      <td>12</td>\n    </tr>\n    <tr>\n      <th>76050</th>\n      <td>1497</td>\n      <td>Donte</td>\n      <td>Barrera</td>\n      <td>49</td>\n      <td>Los Angeles-Long Beach-Anaheim, CA MSA</td>\n      <td>2018-12-10</td>\n      <td>ultimate</td>\n      <td>NaN</td>\n      <td>1497</td>\n      <td>2018-12-23</td>\n      <td>70</td>\n      <td>1000</td>\n      <td>0.1</td>\n      <td>12</td>\n    </tr>\n  </tbody>\n</table>\n<p>76051 rows × 14 columns</p>\n</div>"
     },
     "execution_count": 396,
     "metadata": {},
     "output_type": "execute_result"
    }
   ],
   "source": [
    "messages"
   ],
   "metadata": {
    "collapsed": false
   }
  },
  {
   "cell_type": "markdown",
   "source": [
    "## CALLS"
   ],
   "metadata": {
    "collapsed": false
   }
  },
  {
   "cell_type": "code",
   "execution_count": 365,
   "outputs": [],
   "source": [
    "calls = pd.merge(users_data, calls_data, on='user_id')"
   ],
   "metadata": {
    "collapsed": false
   }
  },
  {
   "cell_type": "code",
   "execution_count": 366,
   "outputs": [],
   "source": [
    "calls['payment_plan'] = calls['plan'].map({'surf': 20, 'ultimate': 70})"
   ],
   "metadata": {
    "collapsed": false
   }
  },
  {
   "cell_type": "code",
   "execution_count": 367,
   "outputs": [],
   "source": [
    "calls['limit_plan'] = calls['plan'].map({'surf': 500, 'ultimate': 3000})"
   ],
   "metadata": {
    "collapsed": false
   }
  },
  {
   "cell_type": "code",
   "execution_count": 368,
   "outputs": [],
   "source": [
    "calls['debt_fee'] = calls['plan'].map({'surf': 0.3, 'ultimate': 0.1})"
   ],
   "metadata": {
    "collapsed": false
   }
  },
  {
   "cell_type": "code",
   "execution_count": 369,
   "outputs": [],
   "source": [
    "calls['month'] = calls['call_date'].str.split('-', expand=True)[1]"
   ],
   "metadata": {
    "collapsed": false
   }
  },
  {
   "cell_type": "code",
   "execution_count": 370,
   "outputs": [],
   "source": [
    "calls['id'] = calls['id'].str.split('_', expand=True)[0]"
   ],
   "metadata": {
    "collapsed": false
   }
  },
  {
   "cell_type": "code",
   "execution_count": 399,
   "outputs": [],
   "source": [
    "calls['id'] = calls['id'].astype(int)"
   ],
   "metadata": {
    "collapsed": false
   }
  },
  {
   "cell_type": "code",
   "execution_count": 400,
   "outputs": [
    {
     "data": {
      "text/plain": "        user_id first_name last_name  age  \\\n0          1000   Anamaria     Bauer   45   \n1          1000   Anamaria     Bauer   45   \n2          1000   Anamaria     Bauer   45   \n3          1000   Anamaria     Bauer   45   \n4          1000   Anamaria     Bauer   45   \n...         ...        ...       ...  ...   \n137730     1499      Shena   Dickson   37   \n137731     1499      Shena   Dickson   37   \n137732     1499      Shena   Dickson   37   \n137733     1499      Shena   Dickson   37   \n137734     1499      Shena   Dickson   37   \n\n                                         city    reg_date      plan  \\\n0       Atlanta-Sandy Springs-Roswell, GA MSA  2018-12-24  ultimate   \n1       Atlanta-Sandy Springs-Roswell, GA MSA  2018-12-24  ultimate   \n2       Atlanta-Sandy Springs-Roswell, GA MSA  2018-12-24  ultimate   \n3       Atlanta-Sandy Springs-Roswell, GA MSA  2018-12-24  ultimate   \n4       Atlanta-Sandy Springs-Roswell, GA MSA  2018-12-24  ultimate   \n...                                       ...         ...       ...   \n137730      Orlando-Kissimmee-Sanford, FL MSA  2018-05-06      surf   \n137731      Orlando-Kissimmee-Sanford, FL MSA  2018-05-06      surf   \n137732      Orlando-Kissimmee-Sanford, FL MSA  2018-05-06      surf   \n137733      Orlando-Kissimmee-Sanford, FL MSA  2018-05-06      surf   \n137734      Orlando-Kissimmee-Sanford, FL MSA  2018-05-06      surf   \n\n       churn_date    id   call_date  duration  payment_plan  limit_plan  \\\n0             NaN  1000  2018-12-27      8.52            70        3000   \n1             NaN  1000  2018-12-27     13.66            70        3000   \n2             NaN  1000  2018-12-27     14.48            70        3000   \n3             NaN  1000  2018-12-28      5.76            70        3000   \n4             NaN  1000  2018-12-30      4.22            70        3000   \n...           ...   ...         ...       ...           ...         ...   \n137730        NaN  1499  2018-11-21      8.72            20         500   \n137731        NaN  1499  2018-10-20     10.89            20         500   \n137732        NaN  1499  2018-09-21      8.12            20         500   \n137733        NaN  1499  2018-10-10      0.37            20         500   \n137734        NaN  1499  2018-12-29     13.86            20         500   \n\n        debt_fee month  \n0            0.1    12  \n1            0.1    12  \n2            0.1    12  \n3            0.1    12  \n4            0.1    12  \n...          ...   ...  \n137730       0.3    11  \n137731       0.3    10  \n137732       0.3    09  \n137733       0.3    10  \n137734       0.3    12  \n\n[137735 rows x 15 columns]",
      "text/html": "<div>\n<style scoped>\n    .dataframe tbody tr th:only-of-type {\n        vertical-align: middle;\n    }\n\n    .dataframe tbody tr th {\n        vertical-align: top;\n    }\n\n    .dataframe thead th {\n        text-align: right;\n    }\n</style>\n<table border=\"1\" class=\"dataframe\">\n  <thead>\n    <tr style=\"text-align: right;\">\n      <th></th>\n      <th>user_id</th>\n      <th>first_name</th>\n      <th>last_name</th>\n      <th>age</th>\n      <th>city</th>\n      <th>reg_date</th>\n      <th>plan</th>\n      <th>churn_date</th>\n      <th>id</th>\n      <th>call_date</th>\n      <th>duration</th>\n      <th>payment_plan</th>\n      <th>limit_plan</th>\n      <th>debt_fee</th>\n      <th>month</th>\n    </tr>\n  </thead>\n  <tbody>\n    <tr>\n      <th>0</th>\n      <td>1000</td>\n      <td>Anamaria</td>\n      <td>Bauer</td>\n      <td>45</td>\n      <td>Atlanta-Sandy Springs-Roswell, GA MSA</td>\n      <td>2018-12-24</td>\n      <td>ultimate</td>\n      <td>NaN</td>\n      <td>1000</td>\n      <td>2018-12-27</td>\n      <td>8.52</td>\n      <td>70</td>\n      <td>3000</td>\n      <td>0.1</td>\n      <td>12</td>\n    </tr>\n    <tr>\n      <th>1</th>\n      <td>1000</td>\n      <td>Anamaria</td>\n      <td>Bauer</td>\n      <td>45</td>\n      <td>Atlanta-Sandy Springs-Roswell, GA MSA</td>\n      <td>2018-12-24</td>\n      <td>ultimate</td>\n      <td>NaN</td>\n      <td>1000</td>\n      <td>2018-12-27</td>\n      <td>13.66</td>\n      <td>70</td>\n      <td>3000</td>\n      <td>0.1</td>\n      <td>12</td>\n    </tr>\n    <tr>\n      <th>2</th>\n      <td>1000</td>\n      <td>Anamaria</td>\n      <td>Bauer</td>\n      <td>45</td>\n      <td>Atlanta-Sandy Springs-Roswell, GA MSA</td>\n      <td>2018-12-24</td>\n      <td>ultimate</td>\n      <td>NaN</td>\n      <td>1000</td>\n      <td>2018-12-27</td>\n      <td>14.48</td>\n      <td>70</td>\n      <td>3000</td>\n      <td>0.1</td>\n      <td>12</td>\n    </tr>\n    <tr>\n      <th>3</th>\n      <td>1000</td>\n      <td>Anamaria</td>\n      <td>Bauer</td>\n      <td>45</td>\n      <td>Atlanta-Sandy Springs-Roswell, GA MSA</td>\n      <td>2018-12-24</td>\n      <td>ultimate</td>\n      <td>NaN</td>\n      <td>1000</td>\n      <td>2018-12-28</td>\n      <td>5.76</td>\n      <td>70</td>\n      <td>3000</td>\n      <td>0.1</td>\n      <td>12</td>\n    </tr>\n    <tr>\n      <th>4</th>\n      <td>1000</td>\n      <td>Anamaria</td>\n      <td>Bauer</td>\n      <td>45</td>\n      <td>Atlanta-Sandy Springs-Roswell, GA MSA</td>\n      <td>2018-12-24</td>\n      <td>ultimate</td>\n      <td>NaN</td>\n      <td>1000</td>\n      <td>2018-12-30</td>\n      <td>4.22</td>\n      <td>70</td>\n      <td>3000</td>\n      <td>0.1</td>\n      <td>12</td>\n    </tr>\n    <tr>\n      <th>...</th>\n      <td>...</td>\n      <td>...</td>\n      <td>...</td>\n      <td>...</td>\n      <td>...</td>\n      <td>...</td>\n      <td>...</td>\n      <td>...</td>\n      <td>...</td>\n      <td>...</td>\n      <td>...</td>\n      <td>...</td>\n      <td>...</td>\n      <td>...</td>\n      <td>...</td>\n    </tr>\n    <tr>\n      <th>137730</th>\n      <td>1499</td>\n      <td>Shena</td>\n      <td>Dickson</td>\n      <td>37</td>\n      <td>Orlando-Kissimmee-Sanford, FL MSA</td>\n      <td>2018-05-06</td>\n      <td>surf</td>\n      <td>NaN</td>\n      <td>1499</td>\n      <td>2018-11-21</td>\n      <td>8.72</td>\n      <td>20</td>\n      <td>500</td>\n      <td>0.3</td>\n      <td>11</td>\n    </tr>\n    <tr>\n      <th>137731</th>\n      <td>1499</td>\n      <td>Shena</td>\n      <td>Dickson</td>\n      <td>37</td>\n      <td>Orlando-Kissimmee-Sanford, FL MSA</td>\n      <td>2018-05-06</td>\n      <td>surf</td>\n      <td>NaN</td>\n      <td>1499</td>\n      <td>2018-10-20</td>\n      <td>10.89</td>\n      <td>20</td>\n      <td>500</td>\n      <td>0.3</td>\n      <td>10</td>\n    </tr>\n    <tr>\n      <th>137732</th>\n      <td>1499</td>\n      <td>Shena</td>\n      <td>Dickson</td>\n      <td>37</td>\n      <td>Orlando-Kissimmee-Sanford, FL MSA</td>\n      <td>2018-05-06</td>\n      <td>surf</td>\n      <td>NaN</td>\n      <td>1499</td>\n      <td>2018-09-21</td>\n      <td>8.12</td>\n      <td>20</td>\n      <td>500</td>\n      <td>0.3</td>\n      <td>09</td>\n    </tr>\n    <tr>\n      <th>137733</th>\n      <td>1499</td>\n      <td>Shena</td>\n      <td>Dickson</td>\n      <td>37</td>\n      <td>Orlando-Kissimmee-Sanford, FL MSA</td>\n      <td>2018-05-06</td>\n      <td>surf</td>\n      <td>NaN</td>\n      <td>1499</td>\n      <td>2018-10-10</td>\n      <td>0.37</td>\n      <td>20</td>\n      <td>500</td>\n      <td>0.3</td>\n      <td>10</td>\n    </tr>\n    <tr>\n      <th>137734</th>\n      <td>1499</td>\n      <td>Shena</td>\n      <td>Dickson</td>\n      <td>37</td>\n      <td>Orlando-Kissimmee-Sanford, FL MSA</td>\n      <td>2018-05-06</td>\n      <td>surf</td>\n      <td>NaN</td>\n      <td>1499</td>\n      <td>2018-12-29</td>\n      <td>13.86</td>\n      <td>20</td>\n      <td>500</td>\n      <td>0.3</td>\n      <td>12</td>\n    </tr>\n  </tbody>\n</table>\n<p>137735 rows × 15 columns</p>\n</div>"
     },
     "execution_count": 400,
     "metadata": {},
     "output_type": "execute_result"
    }
   ],
   "source": [
    "calls"
   ],
   "metadata": {
    "collapsed": false
   }
  },
  {
   "cell_type": "markdown",
   "source": [
    "## INTERNET"
   ],
   "metadata": {
    "collapsed": false
   }
  },
  {
   "cell_type": "code",
   "execution_count": 372,
   "outputs": [],
   "source": [
    "internet = pd.merge(users_data, internet_data, on='user_id')"
   ],
   "metadata": {
    "collapsed": false
   }
  },
  {
   "cell_type": "code",
   "execution_count": 373,
   "outputs": [],
   "source": [
    "internet['payment_plan'] = internet['plan'].map({'surf': 20, 'ultimate': 70})"
   ],
   "metadata": {
    "collapsed": false
   }
  },
  {
   "cell_type": "code",
   "execution_count": 374,
   "outputs": [],
   "source": [
    "internet['limit_plan'] = internet['plan'].map({'surf': 15360, 'ultimate': 30720})"
   ],
   "metadata": {
    "collapsed": false
   }
  },
  {
   "cell_type": "code",
   "execution_count": 375,
   "outputs": [],
   "source": [
    "internet['debt_fee'] = internet['plan'].map({'surf': 10, 'ultimate': 7})"
   ],
   "metadata": {
    "collapsed": false
   }
  },
  {
   "cell_type": "code",
   "execution_count": 376,
   "outputs": [],
   "source": [
    "internet['month'] = internet['session_date'].str.split('-', expand=True)[1]"
   ],
   "metadata": {
    "collapsed": false
   }
  },
  {
   "cell_type": "code",
   "execution_count": 377,
   "outputs": [],
   "source": [
    "internet['id'] = internet['id'].str.split('_', expand=True)[0]"
   ],
   "metadata": {
    "collapsed": false
   }
  },
  {
   "cell_type": "code",
   "execution_count": 401,
   "outputs": [],
   "source": [
    "internet['id'] = internet['id'].astype(int)"
   ],
   "metadata": {
    "collapsed": false
   }
  },
  {
   "cell_type": "code",
   "execution_count": 403,
   "outputs": [
    {
     "data": {
      "text/plain": "        user_id first_name last_name  age  \\\n0          1000   Anamaria     Bauer   45   \n1          1000   Anamaria     Bauer   45   \n2          1000   Anamaria     Bauer   45   \n3          1000   Anamaria     Bauer   45   \n4          1000   Anamaria     Bauer   45   \n...         ...        ...       ...  ...   \n104820     1499      Shena   Dickson   37   \n104821     1499      Shena   Dickson   37   \n104822     1499      Shena   Dickson   37   \n104823     1499      Shena   Dickson   37   \n104824     1499      Shena   Dickson   37   \n\n                                         city    reg_date      plan  \\\n0       Atlanta-Sandy Springs-Roswell, GA MSA  2018-12-24  ultimate   \n1       Atlanta-Sandy Springs-Roswell, GA MSA  2018-12-24  ultimate   \n2       Atlanta-Sandy Springs-Roswell, GA MSA  2018-12-24  ultimate   \n3       Atlanta-Sandy Springs-Roswell, GA MSA  2018-12-24  ultimate   \n4       Atlanta-Sandy Springs-Roswell, GA MSA  2018-12-24  ultimate   \n...                                       ...         ...       ...   \n104820      Orlando-Kissimmee-Sanford, FL MSA  2018-05-06      surf   \n104821      Orlando-Kissimmee-Sanford, FL MSA  2018-05-06      surf   \n104822      Orlando-Kissimmee-Sanford, FL MSA  2018-05-06      surf   \n104823      Orlando-Kissimmee-Sanford, FL MSA  2018-05-06      surf   \n104824      Orlando-Kissimmee-Sanford, FL MSA  2018-05-06      surf   \n\n       churn_date    id session_date  mb_used  payment_plan  limit_plan  \\\n0             NaN  1000   2018-12-29    89.86            70       30720   \n1             NaN  1000   2018-12-31     0.00            70       30720   \n2             NaN  1000   2018-12-28   660.40            70       30720   \n3             NaN  1000   2018-12-26   270.99            70       30720   \n4             NaN  1000   2018-12-27   880.22            70       30720   \n...           ...   ...          ...      ...           ...         ...   \n104820        NaN  1499   2018-10-20   218.06            20       15360   \n104821        NaN  1499   2018-12-30   304.72            20       15360   \n104822        NaN  1499   2018-09-22   292.75            20       15360   \n104823        NaN  1499   2018-12-07     0.00            20       15360   \n104824        NaN  1499   2018-12-24   758.31            20       15360   \n\n        debt_fee month  \n0              7    12  \n1              7    12  \n2              7    12  \n3              7    12  \n4              7    12  \n...          ...   ...  \n104820        10    10  \n104821        10    12  \n104822        10    09  \n104823        10    12  \n104824        10    12  \n\n[104825 rows x 15 columns]",
      "text/html": "<div>\n<style scoped>\n    .dataframe tbody tr th:only-of-type {\n        vertical-align: middle;\n    }\n\n    .dataframe tbody tr th {\n        vertical-align: top;\n    }\n\n    .dataframe thead th {\n        text-align: right;\n    }\n</style>\n<table border=\"1\" class=\"dataframe\">\n  <thead>\n    <tr style=\"text-align: right;\">\n      <th></th>\n      <th>user_id</th>\n      <th>first_name</th>\n      <th>last_name</th>\n      <th>age</th>\n      <th>city</th>\n      <th>reg_date</th>\n      <th>plan</th>\n      <th>churn_date</th>\n      <th>id</th>\n      <th>session_date</th>\n      <th>mb_used</th>\n      <th>payment_plan</th>\n      <th>limit_plan</th>\n      <th>debt_fee</th>\n      <th>month</th>\n    </tr>\n  </thead>\n  <tbody>\n    <tr>\n      <th>0</th>\n      <td>1000</td>\n      <td>Anamaria</td>\n      <td>Bauer</td>\n      <td>45</td>\n      <td>Atlanta-Sandy Springs-Roswell, GA MSA</td>\n      <td>2018-12-24</td>\n      <td>ultimate</td>\n      <td>NaN</td>\n      <td>1000</td>\n      <td>2018-12-29</td>\n      <td>89.86</td>\n      <td>70</td>\n      <td>30720</td>\n      <td>7</td>\n      <td>12</td>\n    </tr>\n    <tr>\n      <th>1</th>\n      <td>1000</td>\n      <td>Anamaria</td>\n      <td>Bauer</td>\n      <td>45</td>\n      <td>Atlanta-Sandy Springs-Roswell, GA MSA</td>\n      <td>2018-12-24</td>\n      <td>ultimate</td>\n      <td>NaN</td>\n      <td>1000</td>\n      <td>2018-12-31</td>\n      <td>0.00</td>\n      <td>70</td>\n      <td>30720</td>\n      <td>7</td>\n      <td>12</td>\n    </tr>\n    <tr>\n      <th>2</th>\n      <td>1000</td>\n      <td>Anamaria</td>\n      <td>Bauer</td>\n      <td>45</td>\n      <td>Atlanta-Sandy Springs-Roswell, GA MSA</td>\n      <td>2018-12-24</td>\n      <td>ultimate</td>\n      <td>NaN</td>\n      <td>1000</td>\n      <td>2018-12-28</td>\n      <td>660.40</td>\n      <td>70</td>\n      <td>30720</td>\n      <td>7</td>\n      <td>12</td>\n    </tr>\n    <tr>\n      <th>3</th>\n      <td>1000</td>\n      <td>Anamaria</td>\n      <td>Bauer</td>\n      <td>45</td>\n      <td>Atlanta-Sandy Springs-Roswell, GA MSA</td>\n      <td>2018-12-24</td>\n      <td>ultimate</td>\n      <td>NaN</td>\n      <td>1000</td>\n      <td>2018-12-26</td>\n      <td>270.99</td>\n      <td>70</td>\n      <td>30720</td>\n      <td>7</td>\n      <td>12</td>\n    </tr>\n    <tr>\n      <th>4</th>\n      <td>1000</td>\n      <td>Anamaria</td>\n      <td>Bauer</td>\n      <td>45</td>\n      <td>Atlanta-Sandy Springs-Roswell, GA MSA</td>\n      <td>2018-12-24</td>\n      <td>ultimate</td>\n      <td>NaN</td>\n      <td>1000</td>\n      <td>2018-12-27</td>\n      <td>880.22</td>\n      <td>70</td>\n      <td>30720</td>\n      <td>7</td>\n      <td>12</td>\n    </tr>\n    <tr>\n      <th>...</th>\n      <td>...</td>\n      <td>...</td>\n      <td>...</td>\n      <td>...</td>\n      <td>...</td>\n      <td>...</td>\n      <td>...</td>\n      <td>...</td>\n      <td>...</td>\n      <td>...</td>\n      <td>...</td>\n      <td>...</td>\n      <td>...</td>\n      <td>...</td>\n      <td>...</td>\n    </tr>\n    <tr>\n      <th>104820</th>\n      <td>1499</td>\n      <td>Shena</td>\n      <td>Dickson</td>\n      <td>37</td>\n      <td>Orlando-Kissimmee-Sanford, FL MSA</td>\n      <td>2018-05-06</td>\n      <td>surf</td>\n      <td>NaN</td>\n      <td>1499</td>\n      <td>2018-10-20</td>\n      <td>218.06</td>\n      <td>20</td>\n      <td>15360</td>\n      <td>10</td>\n      <td>10</td>\n    </tr>\n    <tr>\n      <th>104821</th>\n      <td>1499</td>\n      <td>Shena</td>\n      <td>Dickson</td>\n      <td>37</td>\n      <td>Orlando-Kissimmee-Sanford, FL MSA</td>\n      <td>2018-05-06</td>\n      <td>surf</td>\n      <td>NaN</td>\n      <td>1499</td>\n      <td>2018-12-30</td>\n      <td>304.72</td>\n      <td>20</td>\n      <td>15360</td>\n      <td>10</td>\n      <td>12</td>\n    </tr>\n    <tr>\n      <th>104822</th>\n      <td>1499</td>\n      <td>Shena</td>\n      <td>Dickson</td>\n      <td>37</td>\n      <td>Orlando-Kissimmee-Sanford, FL MSA</td>\n      <td>2018-05-06</td>\n      <td>surf</td>\n      <td>NaN</td>\n      <td>1499</td>\n      <td>2018-09-22</td>\n      <td>292.75</td>\n      <td>20</td>\n      <td>15360</td>\n      <td>10</td>\n      <td>09</td>\n    </tr>\n    <tr>\n      <th>104823</th>\n      <td>1499</td>\n      <td>Shena</td>\n      <td>Dickson</td>\n      <td>37</td>\n      <td>Orlando-Kissimmee-Sanford, FL MSA</td>\n      <td>2018-05-06</td>\n      <td>surf</td>\n      <td>NaN</td>\n      <td>1499</td>\n      <td>2018-12-07</td>\n      <td>0.00</td>\n      <td>20</td>\n      <td>15360</td>\n      <td>10</td>\n      <td>12</td>\n    </tr>\n    <tr>\n      <th>104824</th>\n      <td>1499</td>\n      <td>Shena</td>\n      <td>Dickson</td>\n      <td>37</td>\n      <td>Orlando-Kissimmee-Sanford, FL MSA</td>\n      <td>2018-05-06</td>\n      <td>surf</td>\n      <td>NaN</td>\n      <td>1499</td>\n      <td>2018-12-24</td>\n      <td>758.31</td>\n      <td>20</td>\n      <td>15360</td>\n      <td>10</td>\n      <td>12</td>\n    </tr>\n  </tbody>\n</table>\n<p>104825 rows × 15 columns</p>\n</div>"
     },
     "execution_count": 403,
     "metadata": {},
     "output_type": "execute_result"
    }
   ],
   "source": [
    "internet"
   ],
   "metadata": {
    "collapsed": false
   }
  },
  {
   "cell_type": "code",
   "execution_count": 403,
   "outputs": [],
   "source": [],
   "metadata": {
    "collapsed": false
   }
  },
  {
   "cell_type": "code",
   "execution_count": 403,
   "outputs": [],
   "source": [],
   "metadata": {
    "collapsed": false
   }
  },
  {
   "cell_type": "markdown",
   "source": [
    "# EDA - PROCESAMIENTO DE DATOS"
   ],
   "metadata": {
    "collapsed": false
   }
  },
  {
   "cell_type": "markdown",
   "source": [
    "Vamos a averiguar el numero de llamadas realizadas y minutos utilizados por mes y usuario"
   ],
   "metadata": {
    "collapsed": false
   }
  },
  {
   "cell_type": "code",
   "execution_count": 406,
   "outputs": [
    {
     "data": {
      "text/plain": "                          duration\nuser_id month limit_plan          \n1000    12    3000          116.83\n1001    08    500           171.14\n        09    500           297.69\n        10    500           374.11\n        11    500           404.59\n...                            ...\n1498    12    500           324.77\n1499    09    500           330.37\n        10    500           363.28\n        11    500           288.56\n        12    500           468.10\n\n[2258 rows x 1 columns]",
      "text/html": "<div>\n<style scoped>\n    .dataframe tbody tr th:only-of-type {\n        vertical-align: middle;\n    }\n\n    .dataframe tbody tr th {\n        vertical-align: top;\n    }\n\n    .dataframe thead th {\n        text-align: right;\n    }\n</style>\n<table border=\"1\" class=\"dataframe\">\n  <thead>\n    <tr style=\"text-align: right;\">\n      <th></th>\n      <th></th>\n      <th></th>\n      <th>duration</th>\n    </tr>\n    <tr>\n      <th>user_id</th>\n      <th>month</th>\n      <th>limit_plan</th>\n      <th></th>\n    </tr>\n  </thead>\n  <tbody>\n    <tr>\n      <th>1000</th>\n      <th>12</th>\n      <th>3000</th>\n      <td>116.83</td>\n    </tr>\n    <tr>\n      <th rowspan=\"4\" valign=\"top\">1001</th>\n      <th>08</th>\n      <th>500</th>\n      <td>171.14</td>\n    </tr>\n    <tr>\n      <th>09</th>\n      <th>500</th>\n      <td>297.69</td>\n    </tr>\n    <tr>\n      <th>10</th>\n      <th>500</th>\n      <td>374.11</td>\n    </tr>\n    <tr>\n      <th>11</th>\n      <th>500</th>\n      <td>404.59</td>\n    </tr>\n    <tr>\n      <th>...</th>\n      <th>...</th>\n      <th>...</th>\n      <td>...</td>\n    </tr>\n    <tr>\n      <th>1498</th>\n      <th>12</th>\n      <th>500</th>\n      <td>324.77</td>\n    </tr>\n    <tr>\n      <th rowspan=\"4\" valign=\"top\">1499</th>\n      <th>09</th>\n      <th>500</th>\n      <td>330.37</td>\n    </tr>\n    <tr>\n      <th>10</th>\n      <th>500</th>\n      <td>363.28</td>\n    </tr>\n    <tr>\n      <th>11</th>\n      <th>500</th>\n      <td>288.56</td>\n    </tr>\n    <tr>\n      <th>12</th>\n      <th>500</th>\n      <td>468.10</td>\n    </tr>\n  </tbody>\n</table>\n<p>2258 rows × 1 columns</p>\n</div>"
     },
     "execution_count": 406,
     "metadata": {},
     "output_type": "execute_result"
    }
   ],
   "source": [
    "calls.pivot_table(index=['user_id', 'month', 'limit_plan'], values=['duration'], aggfunc='sum')"
   ],
   "metadata": {
    "collapsed": false
   }
  },
  {
   "cell_type": "markdown",
   "source": [
    "Vamos a ver la cantidad de SMS enviados por mes."
   ],
   "metadata": {
    "collapsed": false
   }
  },
  {
   "cell_type": "code",
   "execution_count": 407,
   "outputs": [
    {
     "data": {
      "text/plain": "                          id\nuser_id month limit_plan    \n1000    12    1000        11\n1001    08    50          30\n        09    50          44\n        10    50          53\n        11    50          36\n...                       ..\n1496    09    50          21\n        10    50          18\n        11    50          13\n        12    50          11\n1497    12    1000        50\n\n[1806 rows x 1 columns]",
      "text/html": "<div>\n<style scoped>\n    .dataframe tbody tr th:only-of-type {\n        vertical-align: middle;\n    }\n\n    .dataframe tbody tr th {\n        vertical-align: top;\n    }\n\n    .dataframe thead th {\n        text-align: right;\n    }\n</style>\n<table border=\"1\" class=\"dataframe\">\n  <thead>\n    <tr style=\"text-align: right;\">\n      <th></th>\n      <th></th>\n      <th></th>\n      <th>id</th>\n    </tr>\n    <tr>\n      <th>user_id</th>\n      <th>month</th>\n      <th>limit_plan</th>\n      <th></th>\n    </tr>\n  </thead>\n  <tbody>\n    <tr>\n      <th>1000</th>\n      <th>12</th>\n      <th>1000</th>\n      <td>11</td>\n    </tr>\n    <tr>\n      <th rowspan=\"4\" valign=\"top\">1001</th>\n      <th>08</th>\n      <th>50</th>\n      <td>30</td>\n    </tr>\n    <tr>\n      <th>09</th>\n      <th>50</th>\n      <td>44</td>\n    </tr>\n    <tr>\n      <th>10</th>\n      <th>50</th>\n      <td>53</td>\n    </tr>\n    <tr>\n      <th>11</th>\n      <th>50</th>\n      <td>36</td>\n    </tr>\n    <tr>\n      <th>...</th>\n      <th>...</th>\n      <th>...</th>\n      <td>...</td>\n    </tr>\n    <tr>\n      <th rowspan=\"4\" valign=\"top\">1496</th>\n      <th>09</th>\n      <th>50</th>\n      <td>21</td>\n    </tr>\n    <tr>\n      <th>10</th>\n      <th>50</th>\n      <td>18</td>\n    </tr>\n    <tr>\n      <th>11</th>\n      <th>50</th>\n      <td>13</td>\n    </tr>\n    <tr>\n      <th>12</th>\n      <th>50</th>\n      <td>11</td>\n    </tr>\n    <tr>\n      <th>1497</th>\n      <th>12</th>\n      <th>1000</th>\n      <td>50</td>\n    </tr>\n  </tbody>\n</table>\n<p>1806 rows × 1 columns</p>\n</div>"
     },
     "execution_count": 407,
     "metadata": {},
     "output_type": "execute_result"
    }
   ],
   "source": [
    "messages.pivot_table(index=['user_id', 'month', 'limit_plan'], values=['id'], aggfunc='count')"
   ],
   "metadata": {
    "collapsed": false
   }
  },
  {
   "cell_type": "markdown",
   "source": [
    "A continuacion observamos el volumen de datos por mes y usuario"
   ],
   "metadata": {
    "collapsed": false
   }
  },
  {
   "cell_type": "code",
   "execution_count": 408,
   "outputs": [
    {
     "data": {
      "text/plain": "                          mb_used\nuser_id month limit_plan         \n1000    12    30720             5\n1001    08    15360            25\n        09    15360            53\n        10    15360            56\n        11    15360            51\n...                           ...\n1498    12    15360            65\n1499    09    15360            45\n        10    15360            61\n        11    15360            49\n        12    15360            65\n\n[2277 rows x 1 columns]",
      "text/html": "<div>\n<style scoped>\n    .dataframe tbody tr th:only-of-type {\n        vertical-align: middle;\n    }\n\n    .dataframe tbody tr th {\n        vertical-align: top;\n    }\n\n    .dataframe thead th {\n        text-align: right;\n    }\n</style>\n<table border=\"1\" class=\"dataframe\">\n  <thead>\n    <tr style=\"text-align: right;\">\n      <th></th>\n      <th></th>\n      <th></th>\n      <th>mb_used</th>\n    </tr>\n    <tr>\n      <th>user_id</th>\n      <th>month</th>\n      <th>limit_plan</th>\n      <th></th>\n    </tr>\n  </thead>\n  <tbody>\n    <tr>\n      <th>1000</th>\n      <th>12</th>\n      <th>30720</th>\n      <td>5</td>\n    </tr>\n    <tr>\n      <th rowspan=\"4\" valign=\"top\">1001</th>\n      <th>08</th>\n      <th>15360</th>\n      <td>25</td>\n    </tr>\n    <tr>\n      <th>09</th>\n      <th>15360</th>\n      <td>53</td>\n    </tr>\n    <tr>\n      <th>10</th>\n      <th>15360</th>\n      <td>56</td>\n    </tr>\n    <tr>\n      <th>11</th>\n      <th>15360</th>\n      <td>51</td>\n    </tr>\n    <tr>\n      <th>...</th>\n      <th>...</th>\n      <th>...</th>\n      <td>...</td>\n    </tr>\n    <tr>\n      <th>1498</th>\n      <th>12</th>\n      <th>15360</th>\n      <td>65</td>\n    </tr>\n    <tr>\n      <th rowspan=\"4\" valign=\"top\">1499</th>\n      <th>09</th>\n      <th>15360</th>\n      <td>45</td>\n    </tr>\n    <tr>\n      <th>10</th>\n      <th>15360</th>\n      <td>61</td>\n    </tr>\n    <tr>\n      <th>11</th>\n      <th>15360</th>\n      <td>49</td>\n    </tr>\n    <tr>\n      <th>12</th>\n      <th>15360</th>\n      <td>65</td>\n    </tr>\n  </tbody>\n</table>\n<p>2277 rows × 1 columns</p>\n</div>"
     },
     "execution_count": 408,
     "metadata": {},
     "output_type": "execute_result"
    }
   ],
   "source": [
    "internet.pivot_table(index=['user_id', 'month', 'limit_plan'], values=['mb_used'], aggfunc='count')"
   ],
   "metadata": {
    "collapsed": false
   }
  },
  {
   "cell_type": "code",
   "execution_count": null,
   "outputs": [],
   "source": [],
   "metadata": {
    "collapsed": false
   }
  },
  {
   "cell_type": "code",
   "execution_count": 409,
   "outputs": [
    {
     "data": {
      "text/plain": "        user_id first_name last_name  age  \\\n0          1000   Anamaria     Bauer   45   \n1          1000   Anamaria     Bauer   45   \n2          1000   Anamaria     Bauer   45   \n3          1000   Anamaria     Bauer   45   \n4          1000   Anamaria     Bauer   45   \n...         ...        ...       ...  ...   \n137730     1499      Shena   Dickson   37   \n137731     1499      Shena   Dickson   37   \n137732     1499      Shena   Dickson   37   \n137733     1499      Shena   Dickson   37   \n137734     1499      Shena   Dickson   37   \n\n                                         city    reg_date      plan  \\\n0       Atlanta-Sandy Springs-Roswell, GA MSA  2018-12-24  ultimate   \n1       Atlanta-Sandy Springs-Roswell, GA MSA  2018-12-24  ultimate   \n2       Atlanta-Sandy Springs-Roswell, GA MSA  2018-12-24  ultimate   \n3       Atlanta-Sandy Springs-Roswell, GA MSA  2018-12-24  ultimate   \n4       Atlanta-Sandy Springs-Roswell, GA MSA  2018-12-24  ultimate   \n...                                       ...         ...       ...   \n137730      Orlando-Kissimmee-Sanford, FL MSA  2018-05-06      surf   \n137731      Orlando-Kissimmee-Sanford, FL MSA  2018-05-06      surf   \n137732      Orlando-Kissimmee-Sanford, FL MSA  2018-05-06      surf   \n137733      Orlando-Kissimmee-Sanford, FL MSA  2018-05-06      surf   \n137734      Orlando-Kissimmee-Sanford, FL MSA  2018-05-06      surf   \n\n       churn_date    id   call_date  duration  payment_plan  limit_plan  \\\n0             NaN  1000  2018-12-27      8.52            70        3000   \n1             NaN  1000  2018-12-27     13.66            70        3000   \n2             NaN  1000  2018-12-27     14.48            70        3000   \n3             NaN  1000  2018-12-28      5.76            70        3000   \n4             NaN  1000  2018-12-30      4.22            70        3000   \n...           ...   ...         ...       ...           ...         ...   \n137730        NaN  1499  2018-11-21      8.72            20         500   \n137731        NaN  1499  2018-10-20     10.89            20         500   \n137732        NaN  1499  2018-09-21      8.12            20         500   \n137733        NaN  1499  2018-10-10      0.37            20         500   \n137734        NaN  1499  2018-12-29     13.86            20         500   \n\n        debt_fee month  \n0            0.1    12  \n1            0.1    12  \n2            0.1    12  \n3            0.1    12  \n4            0.1    12  \n...          ...   ...  \n137730       0.3    11  \n137731       0.3    10  \n137732       0.3    09  \n137733       0.3    10  \n137734       0.3    12  \n\n[137735 rows x 15 columns]",
      "text/html": "<div>\n<style scoped>\n    .dataframe tbody tr th:only-of-type {\n        vertical-align: middle;\n    }\n\n    .dataframe tbody tr th {\n        vertical-align: top;\n    }\n\n    .dataframe thead th {\n        text-align: right;\n    }\n</style>\n<table border=\"1\" class=\"dataframe\">\n  <thead>\n    <tr style=\"text-align: right;\">\n      <th></th>\n      <th>user_id</th>\n      <th>first_name</th>\n      <th>last_name</th>\n      <th>age</th>\n      <th>city</th>\n      <th>reg_date</th>\n      <th>plan</th>\n      <th>churn_date</th>\n      <th>id</th>\n      <th>call_date</th>\n      <th>duration</th>\n      <th>payment_plan</th>\n      <th>limit_plan</th>\n      <th>debt_fee</th>\n      <th>month</th>\n    </tr>\n  </thead>\n  <tbody>\n    <tr>\n      <th>0</th>\n      <td>1000</td>\n      <td>Anamaria</td>\n      <td>Bauer</td>\n      <td>45</td>\n      <td>Atlanta-Sandy Springs-Roswell, GA MSA</td>\n      <td>2018-12-24</td>\n      <td>ultimate</td>\n      <td>NaN</td>\n      <td>1000</td>\n      <td>2018-12-27</td>\n      <td>8.52</td>\n      <td>70</td>\n      <td>3000</td>\n      <td>0.1</td>\n      <td>12</td>\n    </tr>\n    <tr>\n      <th>1</th>\n      <td>1000</td>\n      <td>Anamaria</td>\n      <td>Bauer</td>\n      <td>45</td>\n      <td>Atlanta-Sandy Springs-Roswell, GA MSA</td>\n      <td>2018-12-24</td>\n      <td>ultimate</td>\n      <td>NaN</td>\n      <td>1000</td>\n      <td>2018-12-27</td>\n      <td>13.66</td>\n      <td>70</td>\n      <td>3000</td>\n      <td>0.1</td>\n      <td>12</td>\n    </tr>\n    <tr>\n      <th>2</th>\n      <td>1000</td>\n      <td>Anamaria</td>\n      <td>Bauer</td>\n      <td>45</td>\n      <td>Atlanta-Sandy Springs-Roswell, GA MSA</td>\n      <td>2018-12-24</td>\n      <td>ultimate</td>\n      <td>NaN</td>\n      <td>1000</td>\n      <td>2018-12-27</td>\n      <td>14.48</td>\n      <td>70</td>\n      <td>3000</td>\n      <td>0.1</td>\n      <td>12</td>\n    </tr>\n    <tr>\n      <th>3</th>\n      <td>1000</td>\n      <td>Anamaria</td>\n      <td>Bauer</td>\n      <td>45</td>\n      <td>Atlanta-Sandy Springs-Roswell, GA MSA</td>\n      <td>2018-12-24</td>\n      <td>ultimate</td>\n      <td>NaN</td>\n      <td>1000</td>\n      <td>2018-12-28</td>\n      <td>5.76</td>\n      <td>70</td>\n      <td>3000</td>\n      <td>0.1</td>\n      <td>12</td>\n    </tr>\n    <tr>\n      <th>4</th>\n      <td>1000</td>\n      <td>Anamaria</td>\n      <td>Bauer</td>\n      <td>45</td>\n      <td>Atlanta-Sandy Springs-Roswell, GA MSA</td>\n      <td>2018-12-24</td>\n      <td>ultimate</td>\n      <td>NaN</td>\n      <td>1000</td>\n      <td>2018-12-30</td>\n      <td>4.22</td>\n      <td>70</td>\n      <td>3000</td>\n      <td>0.1</td>\n      <td>12</td>\n    </tr>\n    <tr>\n      <th>...</th>\n      <td>...</td>\n      <td>...</td>\n      <td>...</td>\n      <td>...</td>\n      <td>...</td>\n      <td>...</td>\n      <td>...</td>\n      <td>...</td>\n      <td>...</td>\n      <td>...</td>\n      <td>...</td>\n      <td>...</td>\n      <td>...</td>\n      <td>...</td>\n      <td>...</td>\n    </tr>\n    <tr>\n      <th>137730</th>\n      <td>1499</td>\n      <td>Shena</td>\n      <td>Dickson</td>\n      <td>37</td>\n      <td>Orlando-Kissimmee-Sanford, FL MSA</td>\n      <td>2018-05-06</td>\n      <td>surf</td>\n      <td>NaN</td>\n      <td>1499</td>\n      <td>2018-11-21</td>\n      <td>8.72</td>\n      <td>20</td>\n      <td>500</td>\n      <td>0.3</td>\n      <td>11</td>\n    </tr>\n    <tr>\n      <th>137731</th>\n      <td>1499</td>\n      <td>Shena</td>\n      <td>Dickson</td>\n      <td>37</td>\n      <td>Orlando-Kissimmee-Sanford, FL MSA</td>\n      <td>2018-05-06</td>\n      <td>surf</td>\n      <td>NaN</td>\n      <td>1499</td>\n      <td>2018-10-20</td>\n      <td>10.89</td>\n      <td>20</td>\n      <td>500</td>\n      <td>0.3</td>\n      <td>10</td>\n    </tr>\n    <tr>\n      <th>137732</th>\n      <td>1499</td>\n      <td>Shena</td>\n      <td>Dickson</td>\n      <td>37</td>\n      <td>Orlando-Kissimmee-Sanford, FL MSA</td>\n      <td>2018-05-06</td>\n      <td>surf</td>\n      <td>NaN</td>\n      <td>1499</td>\n      <td>2018-09-21</td>\n      <td>8.12</td>\n      <td>20</td>\n      <td>500</td>\n      <td>0.3</td>\n      <td>09</td>\n    </tr>\n    <tr>\n      <th>137733</th>\n      <td>1499</td>\n      <td>Shena</td>\n      <td>Dickson</td>\n      <td>37</td>\n      <td>Orlando-Kissimmee-Sanford, FL MSA</td>\n      <td>2018-05-06</td>\n      <td>surf</td>\n      <td>NaN</td>\n      <td>1499</td>\n      <td>2018-10-10</td>\n      <td>0.37</td>\n      <td>20</td>\n      <td>500</td>\n      <td>0.3</td>\n      <td>10</td>\n    </tr>\n    <tr>\n      <th>137734</th>\n      <td>1499</td>\n      <td>Shena</td>\n      <td>Dickson</td>\n      <td>37</td>\n      <td>Orlando-Kissimmee-Sanford, FL MSA</td>\n      <td>2018-05-06</td>\n      <td>surf</td>\n      <td>NaN</td>\n      <td>1499</td>\n      <td>2018-12-29</td>\n      <td>13.86</td>\n      <td>20</td>\n      <td>500</td>\n      <td>0.3</td>\n      <td>12</td>\n    </tr>\n  </tbody>\n</table>\n<p>137735 rows × 15 columns</p>\n</div>"
     },
     "execution_count": 409,
     "metadata": {},
     "output_type": "execute_result"
    }
   ],
   "source": [
    "calls"
   ],
   "metadata": {
    "collapsed": false
   }
  },
  {
   "cell_type": "code",
   "execution_count": 410,
   "outputs": [],
   "source": [
    "calls_debt = calls[['user_id', 'month', 'id', 'duration', 'payment_plan', 'limit_plan', 'debt_fee']]"
   ],
   "metadata": {
    "collapsed": false
   }
  },
  {
   "cell_type": "code",
   "execution_count": 411,
   "outputs": [
    {
     "data": {
      "text/plain": "        user_id month    id  duration  payment_plan  limit_plan  debt_fee\n0          1000    12  1000      8.52            70        3000       0.1\n1          1000    12  1000     13.66            70        3000       0.1\n2          1000    12  1000     14.48            70        3000       0.1\n3          1000    12  1000      5.76            70        3000       0.1\n4          1000    12  1000      4.22            70        3000       0.1\n...         ...   ...   ...       ...           ...         ...       ...\n137730     1499    11  1499      8.72            20         500       0.3\n137731     1499    10  1499     10.89            20         500       0.3\n137732     1499    09  1499      8.12            20         500       0.3\n137733     1499    10  1499      0.37            20         500       0.3\n137734     1499    12  1499     13.86            20         500       0.3\n\n[137735 rows x 7 columns]",
      "text/html": "<div>\n<style scoped>\n    .dataframe tbody tr th:only-of-type {\n        vertical-align: middle;\n    }\n\n    .dataframe tbody tr th {\n        vertical-align: top;\n    }\n\n    .dataframe thead th {\n        text-align: right;\n    }\n</style>\n<table border=\"1\" class=\"dataframe\">\n  <thead>\n    <tr style=\"text-align: right;\">\n      <th></th>\n      <th>user_id</th>\n      <th>month</th>\n      <th>id</th>\n      <th>duration</th>\n      <th>payment_plan</th>\n      <th>limit_plan</th>\n      <th>debt_fee</th>\n    </tr>\n  </thead>\n  <tbody>\n    <tr>\n      <th>0</th>\n      <td>1000</td>\n      <td>12</td>\n      <td>1000</td>\n      <td>8.52</td>\n      <td>70</td>\n      <td>3000</td>\n      <td>0.1</td>\n    </tr>\n    <tr>\n      <th>1</th>\n      <td>1000</td>\n      <td>12</td>\n      <td>1000</td>\n      <td>13.66</td>\n      <td>70</td>\n      <td>3000</td>\n      <td>0.1</td>\n    </tr>\n    <tr>\n      <th>2</th>\n      <td>1000</td>\n      <td>12</td>\n      <td>1000</td>\n      <td>14.48</td>\n      <td>70</td>\n      <td>3000</td>\n      <td>0.1</td>\n    </tr>\n    <tr>\n      <th>3</th>\n      <td>1000</td>\n      <td>12</td>\n      <td>1000</td>\n      <td>5.76</td>\n      <td>70</td>\n      <td>3000</td>\n      <td>0.1</td>\n    </tr>\n    <tr>\n      <th>4</th>\n      <td>1000</td>\n      <td>12</td>\n      <td>1000</td>\n      <td>4.22</td>\n      <td>70</td>\n      <td>3000</td>\n      <td>0.1</td>\n    </tr>\n    <tr>\n      <th>...</th>\n      <td>...</td>\n      <td>...</td>\n      <td>...</td>\n      <td>...</td>\n      <td>...</td>\n      <td>...</td>\n      <td>...</td>\n    </tr>\n    <tr>\n      <th>137730</th>\n      <td>1499</td>\n      <td>11</td>\n      <td>1499</td>\n      <td>8.72</td>\n      <td>20</td>\n      <td>500</td>\n      <td>0.3</td>\n    </tr>\n    <tr>\n      <th>137731</th>\n      <td>1499</td>\n      <td>10</td>\n      <td>1499</td>\n      <td>10.89</td>\n      <td>20</td>\n      <td>500</td>\n      <td>0.3</td>\n    </tr>\n    <tr>\n      <th>137732</th>\n      <td>1499</td>\n      <td>09</td>\n      <td>1499</td>\n      <td>8.12</td>\n      <td>20</td>\n      <td>500</td>\n      <td>0.3</td>\n    </tr>\n    <tr>\n      <th>137733</th>\n      <td>1499</td>\n      <td>10</td>\n      <td>1499</td>\n      <td>0.37</td>\n      <td>20</td>\n      <td>500</td>\n      <td>0.3</td>\n    </tr>\n    <tr>\n      <th>137734</th>\n      <td>1499</td>\n      <td>12</td>\n      <td>1499</td>\n      <td>13.86</td>\n      <td>20</td>\n      <td>500</td>\n      <td>0.3</td>\n    </tr>\n  </tbody>\n</table>\n<p>137735 rows × 7 columns</p>\n</div>"
     },
     "execution_count": 411,
     "metadata": {},
     "output_type": "execute_result"
    }
   ],
   "source": [
    "calls_debt"
   ],
   "metadata": {
    "collapsed": false
   }
  },
  {
   "cell_type": "code",
   "execution_count": 412,
   "outputs": [
    {
     "data": {
      "text/plain": "               duration     id\nuser_id month                 \n1000    12       116.83  16000\n1001    08       171.14  27027\n        09       297.69  49049\n        10       374.11  65065\n        11       404.59  64064\n...                 ...    ...\n1498    12       324.77  58422\n1499    09       330.37  61459\n        10       363.28  79447\n        11       288.56  67455\n        12       468.10  97435\n\n[2258 rows x 2 columns]",
      "text/html": "<div>\n<style scoped>\n    .dataframe tbody tr th:only-of-type {\n        vertical-align: middle;\n    }\n\n    .dataframe tbody tr th {\n        vertical-align: top;\n    }\n\n    .dataframe thead th {\n        text-align: right;\n    }\n</style>\n<table border=\"1\" class=\"dataframe\">\n  <thead>\n    <tr style=\"text-align: right;\">\n      <th></th>\n      <th></th>\n      <th>duration</th>\n      <th>id</th>\n    </tr>\n    <tr>\n      <th>user_id</th>\n      <th>month</th>\n      <th></th>\n      <th></th>\n    </tr>\n  </thead>\n  <tbody>\n    <tr>\n      <th>1000</th>\n      <th>12</th>\n      <td>116.83</td>\n      <td>16000</td>\n    </tr>\n    <tr>\n      <th rowspan=\"4\" valign=\"top\">1001</th>\n      <th>08</th>\n      <td>171.14</td>\n      <td>27027</td>\n    </tr>\n    <tr>\n      <th>09</th>\n      <td>297.69</td>\n      <td>49049</td>\n    </tr>\n    <tr>\n      <th>10</th>\n      <td>374.11</td>\n      <td>65065</td>\n    </tr>\n    <tr>\n      <th>11</th>\n      <td>404.59</td>\n      <td>64064</td>\n    </tr>\n    <tr>\n      <th>...</th>\n      <th>...</th>\n      <td>...</td>\n      <td>...</td>\n    </tr>\n    <tr>\n      <th>1498</th>\n      <th>12</th>\n      <td>324.77</td>\n      <td>58422</td>\n    </tr>\n    <tr>\n      <th rowspan=\"4\" valign=\"top\">1499</th>\n      <th>09</th>\n      <td>330.37</td>\n      <td>61459</td>\n    </tr>\n    <tr>\n      <th>10</th>\n      <td>363.28</td>\n      <td>79447</td>\n    </tr>\n    <tr>\n      <th>11</th>\n      <td>288.56</td>\n      <td>67455</td>\n    </tr>\n    <tr>\n      <th>12</th>\n      <td>468.10</td>\n      <td>97435</td>\n    </tr>\n  </tbody>\n</table>\n<p>2258 rows × 2 columns</p>\n</div>"
     },
     "execution_count": 412,
     "metadata": {},
     "output_type": "execute_result"
    }
   ],
   "source": [
    "calls_debt.pivot_table(index=['user_id', 'month'], values=['id', 'duration'], aggfunc='sum')"
   ],
   "metadata": {
    "collapsed": false
   }
  },
  {
   "cell_type": "markdown",
   "source": [
    "# ANALISIS DE DATOS"
   ],
   "metadata": {
    "collapsed": false
   }
  },
  {
   "cell_type": "markdown",
   "source": [
    "A continuacion vamos a analizar el habito de consumo de los usuarios: mensajes, datos y minutos de llamadas"
   ],
   "metadata": {
    "collapsed": false
   }
  },
  {
   "cell_type": "code",
   "execution_count": 415,
   "outputs": [
    {
     "data": {
      "text/plain": "plan\nsurf        6.767264\nultimate    6.699939\nName: duration, dtype: float64"
     },
     "execution_count": 415,
     "metadata": {},
     "output_type": "execute_result"
    }
   ],
   "source": [
    "calls.groupby('plan')['duration'].mean()"
   ],
   "metadata": {
    "collapsed": false
   }
  },
  {
   "cell_type": "markdown",
   "source": [
    "Podemos decir que los datos son similares y que no hay una diferencia significativa entre ellos."
   ],
   "metadata": {
    "collapsed": false
   }
  },
  {
   "cell_type": "code",
   "execution_count": 422,
   "outputs": [
    {
     "data": {
      "text/plain": "plan\nsurf        34.156978\nultimate    33.964578\nName: duration, dtype: float64"
     },
     "execution_count": 422,
     "metadata": {},
     "output_type": "execute_result"
    }
   ],
   "source": [
    "calls.groupby('plan')['duration'].var()"
   ],
   "metadata": {
    "collapsed": false
   }
  },
  {
   "cell_type": "markdown",
   "source": [
    "Podemosm observar como los datos de la varianza indican que los datos estan muy dispersos"
   ],
   "metadata": {
    "collapsed": false
   }
  },
  {
   "cell_type": "code",
   "execution_count": 424,
   "outputs": [
    {
     "data": {
      "text/plain": "plan\nsurf        5.844397\nultimate    5.827914\nName: duration, dtype: float64"
     },
     "execution_count": 424,
     "metadata": {},
     "output_type": "execute_result"
    }
   ],
   "source": [
    "calls.groupby('plan')['duration'].std()"
   ],
   "metadata": {
    "collapsed": false
   }
  },
  {
   "cell_type": "markdown",
   "source": [
    "Unas desviaciones estandar de 5.82 y de 5.84 para los usuarios de los planes surf y ultimate respectivamente nos indican que los usuarios de ambos planes usan habitualmente la misma cantidad de minutos al mes"
   ],
   "metadata": {
    "collapsed": false
   }
  },
  {
   "cell_type": "code",
   "execution_count": 434,
   "outputs": [
    {
     "data": {
      "text/plain": "plan\nsurf        AxesSubplot(0.125,0.11;0.775x0.77)\nultimate    AxesSubplot(0.125,0.11;0.775x0.77)\nName: duration, dtype: object"
     },
     "execution_count": 434,
     "metadata": {},
     "output_type": "execute_result"
    },
    {
     "data": {
      "text/plain": "<Figure size 640x480 with 1 Axes>",
      "image/png": "[encoded data removed]"
     },
     "metadata": {},
     "output_type": "display_data"
    }
   ],
   "source": [
    "calls.groupby('plan')['duration'].hist(alpha=0.5, label=['plan surf', 'plan ultimate'])"
   ],
   "metadata": {
    "collapsed": false
   }
  },
  {
   "cell_type": "markdown",
   "source": [
    "El plan surf tiene una distribución normal y el plan ultimate tiene una distribución normal con una cola a la derecha, lo que significa que hay algunos usuarios que usan muchos minutos al mes y que se alejan de la media de los minutos que usan habitualmente los usuarios de cada plan"
   ],
   "metadata": {
    "collapsed": false
   }
  },
  {
   "cell_type": "code",
   "execution_count": 416,
   "outputs": [
    {
     "data": {
      "text/plain": "plan\nsurf        1251.113151\nultimate    1236.654030\nName: id, dtype: float64"
     },
     "execution_count": 416,
     "metadata": {},
     "output_type": "execute_result"
    }
   ],
   "source": [
    "messages.groupby('plan')['id'].mean()"
   ],
   "metadata": {
    "collapsed": false
   }
  },
  {
   "cell_type": "markdown",
   "source": [
    "Podemos decir que los datos son similares y que no hay una diferencia significativa entre ellos."
   ],
   "metadata": {
    "collapsed": false
   }
  },
  {
   "cell_type": "code",
   "execution_count": 420,
   "outputs": [
    {
     "data": {
      "text/plain": "plan\nsurf        17931.202139\nultimate    22368.221105\nName: id, dtype: float64"
     },
     "execution_count": 420,
     "metadata": {},
     "output_type": "execute_result"
    }
   ],
   "source": [
    "messages.groupby('plan')['id'].var()"
   ],
   "metadata": {
    "collapsed": false
   }
  },
  {
   "cell_type": "markdown",
   "source": [
    "Podemosm observar como los datos de la varianza indican que los datos estan muy dispersos"
   ],
   "metadata": {
    "collapsed": false
   }
  },
  {
   "cell_type": "code",
   "execution_count": 426,
   "outputs": [
    {
     "data": {
      "text/plain": "plan\nsurf        133.907439\nultimate    149.560092\nName: id, dtype: float64"
     },
     "execution_count": 426,
     "metadata": {},
     "output_type": "execute_result"
    }
   ],
   "source": [
    "messages.groupby('plan')['id'].std()"
   ],
   "metadata": {
    "collapsed": false
   }
  },
  {
   "cell_type": "markdown",
   "source": [
    "Unas desviaciones estadar de 133 y 149 para los usuarios de los planes surf y ultimate respectivamente nos indican que los usuarios de ambos planes usan habitualmente la misma cantidad de mensajes al mes"
   ],
   "metadata": {
    "collapsed": false
   }
  },
  {
   "cell_type": "code",
   "execution_count": 435,
   "outputs": [
    {
     "data": {
      "text/plain": "plan\nsurf        AxesSubplot(0.125,0.11;0.775x0.77)\nultimate    AxesSubplot(0.125,0.11;0.775x0.77)\nName: id, dtype: object"
     },
     "execution_count": 435,
     "metadata": {},
     "output_type": "execute_result"
    },
    {
     "data": {
      "text/plain": "<Figure size 640x480 with 1 Axes>",
      "image/png": "[encoded data removed]"
     },
     "metadata": {},
     "output_type": "display_data"
    }
   ],
   "source": [
    "messages.groupby('plan')['id'].hist(alpha=0.5, label=['plan surf', 'plan ultimate'])"
   ],
   "metadata": {
    "collapsed": false
   }
  },
  {
   "cell_type": "markdown",
   "source": [
    "En este histograma podemos observar que el plan surf tiene una distribución normal y el plan ultimate tiene una distribución normal con una cola a la derecha, lo que significa que hay algunos usuarios que usan muchos mensajes al mes y que se alejan de la media de los mensajes que usan habitualmente los usuarios de cada plan"
   ],
   "metadata": {
    "collapsed": false
   }
  },
  {
   "cell_type": "code",
   "execution_count": 418,
   "outputs": [
    {
     "data": {
      "text/plain": "plan\nsurf        363.844606\nultimate    372.892800\nName: mb_used, dtype: float64"
     },
     "execution_count": 418,
     "metadata": {},
     "output_type": "execute_result"
    }
   ],
   "source": [
    "internet.groupby('plan')['mb_used'].mean()"
   ],
   "metadata": {
    "collapsed": false
   }
  },
  {
   "cell_type": "markdown",
   "source": [
    "Podemos decir que los datos son similares y que no hay una diferencia significativa entre ellos."
   ],
   "metadata": {
    "collapsed": false
   }
  },
  {
   "cell_type": "code",
   "execution_count": 423,
   "outputs": [
    {
     "data": {
      "text/plain": "plan\nsurf        76192.150647\nultimate    78129.672672\nName: mb_used, dtype: float64"
     },
     "execution_count": 423,
     "metadata": {},
     "output_type": "execute_result"
    }
   ],
   "source": [
    "internet.groupby('plan')['mb_used'].var()"
   ],
   "metadata": {
    "collapsed": false
   }
  },
  {
   "cell_type": "markdown",
   "source": [
    "Podemosm observar como los datos de la varianza indican que los datos estan muy dispersos"
   ],
   "metadata": {
    "collapsed": false
   }
  },
  {
   "cell_type": "code",
   "execution_count": 427,
   "outputs": [
    {
     "data": {
      "text/plain": "plan\nsurf        276.029257\nultimate    279.516856\nName: mb_used, dtype: float64"
     },
     "execution_count": 427,
     "metadata": {},
     "output_type": "execute_result"
    }
   ],
   "source": [
    "internet.groupby('plan')['mb_used'].std()"
   ],
   "metadata": {
    "collapsed": false
   }
  },
  {
   "cell_type": "markdown",
   "source": [
    "Unas desviaciones estadar de 276 y 279 para los usuarios de los planes surf y ultimate respectivamente nos indican que los usuarios de ambos planes usan habitualmente la misma cantidad de mensajes al mes"
   ],
   "metadata": {
    "collapsed": false
   }
  },
  {
   "cell_type": "code",
   "execution_count": 436,
   "outputs": [
    {
     "data": {
      "text/plain": "plan\nsurf        AxesSubplot(0.125,0.11;0.775x0.77)\nultimate    AxesSubplot(0.125,0.11;0.775x0.77)\nName: mb_used, dtype: object"
     },
     "execution_count": 436,
     "metadata": {},
     "output_type": "execute_result"
    },
    {
     "data": {
      "text/plain": "<Figure size 640x480 with 1 Axes>",
      "image/png": "[encoded data removed]"
     },
     "metadata": {},
     "output_type": "display_data"
    }
   ],
   "source": [
    "internet.groupby('plan')['mb_used'].hist(alpha=0.5, label=['plan surf', 'plan ultimate'])"
   ],
   "metadata": {
    "collapsed": false
   }
  },
  {
   "cell_type": "markdown",
   "source": [
    "En este histograma vemos que el plan surf tiene una distribución normal y el plan ultimate tiene una distribución normal con una cola a la derecha, lo que significa que hay algunos usuarios que usan mucha internet al mes y que se alejan de la media de los minutos que usan habitualmente los usuarios de cada plan"
   ],
   "metadata": {
    "collapsed": false
   }
  },
  {
   "cell_type": "code",
   "execution_count": null,
   "outputs": [],
   "source": [],
   "metadata": {
    "collapsed": false
   }
  }
 ],
 "metadata": {
  "kernelspec": {
   "display_name": "Python 3",
   "language": "python",
   "name": "python3"
  },
  "language_info": {
   "codemirror_mode": {
    "name": "ipython",
    "version": 2
   },
   "file_extension": ".py",
   "mimetype": "text/x-python",
   "name": "python",
   "nbconvert_exporter": "python",
   "pygments_lexer": "ipython2",
   "version": "2.7.6"
  }
 },
 "nbformat": 4,
 "nbformat_minor": 0
}
